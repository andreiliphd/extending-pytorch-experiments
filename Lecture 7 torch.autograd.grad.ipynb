{
 "cells": [
  {
   "cell_type": "code",
   "execution_count": 1,
   "metadata": {},
   "outputs": [],
   "source": [
    "import torch"
   ]
  },
  {
   "cell_type": "code",
   "execution_count": 2,
   "metadata": {},
   "outputs": [],
   "source": [
    "w = torch.tensor(4.0, requires_grad=True)"
   ]
  },
  {
   "cell_type": "code",
   "execution_count": 3,
   "metadata": {},
   "outputs": [],
   "source": [
    "x = torch.tensor(2.0, requires_grad=True)"
   ]
  },
  {
   "cell_type": "code",
   "execution_count": 4,
   "metadata": {},
   "outputs": [],
   "source": [
    "b = torch.tensor(6.0, requires_grad=True)"
   ]
  },
  {
   "cell_type": "code",
   "execution_count": 5,
   "metadata": {},
   "outputs": [],
   "source": [
    "y = w*x+b"
   ]
  },
  {
   "cell_type": "code",
   "execution_count": 6,
   "metadata": {},
   "outputs": [
    {
     "data": {
      "text/plain": [
       "tensor(14., grad_fn=<AddBackward0>)"
      ]
     },
     "execution_count": 6,
     "metadata": {},
     "output_type": "execute_result"
    }
   ],
   "source": [
    "y"
   ]
  },
  {
   "cell_type": "code",
   "execution_count": 18,
   "metadata": {},
   "outputs": [],
   "source": [
    "y.backward()"
   ]
  },
  {
   "cell_type": "code",
   "execution_count": 19,
   "metadata": {},
   "outputs": [],
   "source": [
    "y.grad"
   ]
  },
  {
   "cell_type": "code",
   "execution_count": 20,
   "metadata": {
    "scrolled": false
   },
   "outputs": [],
   "source": [
    "x.grad"
   ]
  },
  {
   "cell_type": "code",
   "execution_count": 21,
   "metadata": {},
   "outputs": [
    {
     "data": {
      "text/plain": [
       "tensor(2.)"
      ]
     },
     "execution_count": 21,
     "metadata": {},
     "output_type": "execute_result"
    }
   ],
   "source": [
    "w.grad"
   ]
  },
  {
   "cell_type": "code",
   "execution_count": 22,
   "metadata": {},
   "outputs": [
    {
     "data": {
      "text/plain": [
       "tensor(1.)"
      ]
     },
     "execution_count": 22,
     "metadata": {},
     "output_type": "execute_result"
    }
   ],
   "source": [
    "b.grad"
   ]
  },
  {
   "cell_type": "code",
   "execution_count": 23,
   "metadata": {},
   "outputs": [
    {
     "data": {
      "text/plain": [
       "tensor(2.)"
      ]
     },
     "execution_count": 23,
     "metadata": {},
     "output_type": "execute_result"
    }
   ],
   "source": [
    "x"
   ]
  },
  {
   "cell_type": "code",
   "execution_count": 24,
   "metadata": {},
   "outputs": [
    {
     "data": {
      "text/plain": [
       "tensor(14., grad_fn=<AddBackward0>)"
      ]
     },
     "execution_count": 24,
     "metadata": {},
     "output_type": "execute_result"
    }
   ],
   "source": [
    "y"
   ]
  },
  {
   "cell_type": "code",
   "execution_count": 25,
   "metadata": {},
   "outputs": [
    {
     "data": {
      "text/plain": [
       "tensor(4., requires_grad=True)"
      ]
     },
     "execution_count": 25,
     "metadata": {},
     "output_type": "execute_result"
    }
   ],
   "source": [
    "w"
   ]
  },
  {
   "cell_type": "code",
   "execution_count": 7,
   "metadata": {},
   "outputs": [],
   "source": [
    "torch.autograd.backward([y], torch.tensor(2.0))"
   ]
  },
  {
   "cell_type": "code",
   "execution_count": 8,
   "metadata": {},
   "outputs": [],
   "source": [
    "x.grad"
   ]
  },
  {
   "cell_type": "code",
   "execution_count": 9,
   "metadata": {},
   "outputs": [],
   "source": [
    "y.grad"
   ]
  },
  {
   "cell_type": "code",
   "execution_count": 10,
   "metadata": {},
   "outputs": [
    {
     "data": {
      "text/plain": [
       "tensor(4.)"
      ]
     },
     "execution_count": 10,
     "metadata": {},
     "output_type": "execute_result"
    }
   ],
   "source": [
    "w.grad"
   ]
  },
  {
   "cell_type": "code",
   "execution_count": 11,
   "metadata": {},
   "outputs": [
    {
     "data": {
      "text/plain": [
       "tensor(2.)"
      ]
     },
     "execution_count": 11,
     "metadata": {},
     "output_type": "execute_result"
    }
   ],
   "source": [
    "b.grad"
   ]
  },
  {
   "cell_type": "code",
   "execution_count": 7,
   "metadata": {},
   "outputs": [
    {
     "name": "stdout",
     "output_type": "stream",
     "text": [
      "-----------------------------------  ---------------  ---------------  ---------------  ---------------  ---------------  ---------------  ---------------  ---------------  ---------------  \n",
      "Name                                 Self CPU total %  Self CPU total   CPU total %      CPU total        CPU time avg     CUDA total %     CUDA total       CUDA time avg    Number of Calls  \n",
      "-----------------------------------  ---------------  ---------------  ---------------  ---------------  ---------------  ---------------  ---------------  ---------------  ---------------  \n",
      "clone                                39.59%           47.148us         39.59%           47.148us         47.148us         NaN              0.000us          0.000us          1                \n",
      "mul                                  18.45%           21.968us         18.45%           21.968us         10.984us         NaN              0.000us          0.000us          2                \n",
      "torch::autograd::AccumulateGrad      15.97%           19.023us         55.56%           66.171us         22.057us         NaN              0.000us          0.000us          3                \n",
      "MulBackward0                         13.49%           16.065us         31.94%           38.033us         38.033us         NaN              0.000us          0.000us          1                \n",
      "AddBackward0                         5.97%            7.112us          5.97%            7.112us          7.112us          NaN              0.000us          0.000us          1                \n",
      "to                                   3.63%            4.323us          3.63%            4.323us          4.323us          NaN              0.000us          0.000us          1                \n",
      "torch::autograd::GraphRoot           1.56%            1.861us          1.56%            1.861us          1.861us          NaN              0.000us          0.000us          1                \n",
      "detach_                              1.34%            1.594us          1.34%            1.594us          1.594us          NaN              0.000us          0.000us          1                \n",
      "-----------------------------------  ---------------  ---------------  ---------------  ---------------  ---------------  ---------------  ---------------  ---------------  ---------------  \n",
      "Self CPU time total: 119.094us\n",
      "CUDA time total: 0.000us\n",
      "\n"
     ]
    }
   ],
   "source": [
    "with torch.autograd.profiler.profile() as prof:\n",
    "    torch.autograd.backward([y], torch.tensor(2.0))\n",
    "print(prof.key_averages().table(sort_by=\"self_cpu_time_total\"))\n",
    "\n"
   ]
  },
  {
   "cell_type": "code",
   "execution_count": 7,
   "metadata": {},
   "outputs": [
    {
     "name": "stdout",
     "output_type": "stream",
     "text": [
      "------------------------------  ---------------  ---------------  ---------------  ---------------  ---------------  ---------------  ---------------  ---------------  ---------------  \n",
      "Name                            Self CPU total %  Self CPU total   CPU total %      CPU total        CPU time avg     CUDA total %     CUDA total       CUDA time avg    Number of Calls  \n",
      "------------------------------  ---------------  ---------------  ---------------  ---------------  ---------------  ---------------  ---------------  ---------------  ---------------  \n",
      "mul                             49.50%           37.370us         49.50%           37.370us         18.685us         NaN              0.000us          0.000us          2                \n",
      "MulBackward0                    36.12%           27.268us         85.62%           64.638us         64.638us         NaN              0.000us          0.000us          1                \n",
      "AddBackward0                    8.58%            6.477us          8.58%            6.477us          6.477us          NaN              0.000us          0.000us          1                \n",
      "torch::autograd::GraphRoot      5.80%            4.382us          5.80%            4.382us          4.382us          NaN              0.000us          0.000us          1                \n",
      "------------------------------  ---------------  ---------------  ---------------  ---------------  ---------------  ---------------  ---------------  ---------------  ---------------  \n",
      "Self CPU time total: 75.497us\n",
      "CUDA time total: 0.000us\n",
      "\n"
     ]
    }
   ],
   "source": [
    "with torch.autograd.profiler.profile() as prof:\n",
    "    torch.autograd.grad(y,x)\n",
    "print(prof.key_averages().table(sort_by=\"self_cpu_time_total\"))\n"
   ]
  },
  {
   "cell_type": "markdown",
   "metadata": {},
   "source": [
    "As we can see while calculating derivative w.r.t. x PyTorch calculates partial derivatives and total derivative is the same as considering all partial derivatives simultaneously. But it doesn't update `tensor.grad`."
   ]
  },
  {
   "cell_type": "code",
   "execution_count": 7,
   "metadata": {},
   "outputs": [
    {
     "data": {
      "text/plain": [
       "(tensor(4.),)"
      ]
     },
     "execution_count": 7,
     "metadata": {},
     "output_type": "execute_result"
    }
   ],
   "source": [
    "torch.autograd.grad(y,x)"
   ]
  },
  {
   "cell_type": "code",
   "execution_count": 8,
   "metadata": {},
   "outputs": [],
   "source": [
    "w.grad"
   ]
  },
  {
   "cell_type": "code",
   "execution_count": 9,
   "metadata": {},
   "outputs": [],
   "source": [
    "x.grad"
   ]
  },
  {
   "cell_type": "code",
   "execution_count": 10,
   "metadata": {},
   "outputs": [],
   "source": [
    "y.grad"
   ]
  },
  {
   "cell_type": "code",
   "execution_count": 11,
   "metadata": {},
   "outputs": [],
   "source": [
    "b.grad"
   ]
  },
  {
   "cell_type": "code",
   "execution_count": 10,
   "metadata": {},
   "outputs": [
    {
     "data": {
      "text/plain": [
       "8192"
      ]
     },
     "execution_count": 10,
     "metadata": {},
     "output_type": "execute_result"
    }
   ],
   "source": [
    "(2*64)*(2*8)*4"
   ]
  },
  {
   "cell_type": "code",
   "execution_count": 9,
   "metadata": {},
   "outputs": [],
   "source": [
    "import torchviz"
   ]
  },
  {
   "cell_type": "code",
   "execution_count": 10,
   "metadata": {},
   "outputs": [
    {
     "data": {
      "image/svg+xml": [
       "<?xml version=\"1.0\" encoding=\"UTF-8\" standalone=\"no\"?>\n",
       "<!DOCTYPE svg PUBLIC \"-//W3C//DTD SVG 1.1//EN\"\n",
       " \"http://www.w3.org/Graphics/SVG/1.1/DTD/svg11.dtd\">\n",
       "<!-- Generated by graphviz version 2.40.1 (20161225.0304)\n",
       " -->\n",
       "<!-- Title: %3 Pages: 1 -->\n",
       "<svg width=\"134pt\" height=\"214pt\"\n",
       " viewBox=\"0.00 0.00 134.00 214.00\" xmlns=\"http://www.w3.org/2000/svg\" xmlns:xlink=\"http://www.w3.org/1999/xlink\">\n",
       "<g id=\"graph0\" class=\"graph\" transform=\"scale(1 1) rotate(0) translate(4 210)\">\n",
       "<title>%3</title>\n",
       "<polygon fill=\"#ffffff\" stroke=\"transparent\" points=\"-4,4 -4,-210 130,-210 130,4 -4,4\"/>\n",
       "<!-- 140038688149008 -->\n",
       "<g id=\"node1\" class=\"node\">\n",
       "<title>140038688149008</title>\n",
       "<polygon fill=\"#caff70\" stroke=\"#000000\" points=\"110,-21 16,-21 16,0 110,0 110,-21\"/>\n",
       "<text text-anchor=\"middle\" x=\"63\" y=\"-7.4\" font-family=\"Times,serif\" font-size=\"12.00\" fill=\"#000000\">PowBackward0</text>\n",
       "</g>\n",
       "<!-- 140038688149072 -->\n",
       "<g id=\"node2\" class=\"node\">\n",
       "<title>140038688149072</title>\n",
       "<polygon fill=\"#d3d3d3\" stroke=\"#000000\" points=\"110,-78 16,-78 16,-57 110,-57 110,-78\"/>\n",
       "<text text-anchor=\"middle\" x=\"63\" y=\"-64.4\" font-family=\"Times,serif\" font-size=\"12.00\" fill=\"#000000\">PowBackward0</text>\n",
       "</g>\n",
       "<!-- 140038688149072&#45;&gt;140038688149008 -->\n",
       "<g id=\"edge1\" class=\"edge\">\n",
       "<title>140038688149072&#45;&gt;140038688149008</title>\n",
       "<path fill=\"none\" stroke=\"#000000\" d=\"M63,-56.7787C63,-49.6134 63,-39.9517 63,-31.3097\"/>\n",
       "<polygon fill=\"#000000\" stroke=\"#000000\" points=\"66.5001,-31.1732 63,-21.1732 59.5001,-31.1732 66.5001,-31.1732\"/>\n",
       "</g>\n",
       "<!-- 140038688149200 -->\n",
       "<g id=\"node3\" class=\"node\">\n",
       "<title>140038688149200</title>\n",
       "<polygon fill=\"#d3d3d3\" stroke=\"#000000\" points=\"109.5,-135 16.5,-135 16.5,-114 109.5,-114 109.5,-135\"/>\n",
       "<text text-anchor=\"middle\" x=\"63\" y=\"-121.4\" font-family=\"Times,serif\" font-size=\"12.00\" fill=\"#000000\">MulBackward0</text>\n",
       "</g>\n",
       "<!-- 140038688149200&#45;&gt;140038688149072 -->\n",
       "<g id=\"edge2\" class=\"edge\">\n",
       "<title>140038688149200&#45;&gt;140038688149072</title>\n",
       "<path fill=\"none\" stroke=\"#000000\" d=\"M63,-113.7787C63,-106.6134 63,-96.9517 63,-88.3097\"/>\n",
       "<polygon fill=\"#000000\" stroke=\"#000000\" points=\"66.5001,-88.1732 63,-78.1732 59.5001,-88.1732 66.5001,-88.1732\"/>\n",
       "</g>\n",
       "<!-- 140038688149328 -->\n",
       "<g id=\"node4\" class=\"node\">\n",
       "<title>140038688149328</title>\n",
       "<polygon fill=\"#add8e6\" stroke=\"#000000\" points=\"54,-206 0,-206 0,-171 54,-171 54,-206\"/>\n",
       "<text text-anchor=\"middle\" x=\"27\" y=\"-178.4\" font-family=\"Times,serif\" font-size=\"12.00\" fill=\"#000000\"> ()</text>\n",
       "</g>\n",
       "<!-- 140038688149328&#45;&gt;140038688149200 -->\n",
       "<g id=\"edge3\" class=\"edge\">\n",
       "<title>140038688149328&#45;&gt;140038688149200</title>\n",
       "<path fill=\"none\" stroke=\"#000000\" d=\"M37.028,-170.6724C41.6838,-162.3956 47.2312,-152.5334 52.0015,-144.053\"/>\n",
       "<polygon fill=\"#000000\" stroke=\"#000000\" points=\"55.1159,-145.6551 56.9681,-135.2234 49.0149,-142.2233 55.1159,-145.6551\"/>\n",
       "</g>\n",
       "<!-- 140038688149392 -->\n",
       "<g id=\"node5\" class=\"node\">\n",
       "<title>140038688149392</title>\n",
       "<polygon fill=\"#add8e6\" stroke=\"#000000\" points=\"126,-206 72,-206 72,-171 126,-171 126,-206\"/>\n",
       "<text text-anchor=\"middle\" x=\"99\" y=\"-178.4\" font-family=\"Times,serif\" font-size=\"12.00\" fill=\"#000000\"> ()</text>\n",
       "</g>\n",
       "<!-- 140038688149392&#45;&gt;140038688149200 -->\n",
       "<g id=\"edge4\" class=\"edge\">\n",
       "<title>140038688149392&#45;&gt;140038688149200</title>\n",
       "<path fill=\"none\" stroke=\"#000000\" d=\"M88.972,-170.6724C84.3162,-162.3956 78.7688,-152.5334 73.9985,-144.053\"/>\n",
       "<polygon fill=\"#000000\" stroke=\"#000000\" points=\"76.9851,-142.2233 69.0319,-135.2234 70.8841,-145.6551 76.9851,-142.2233\"/>\n",
       "</g>\n",
       "</g>\n",
       "</svg>\n"
      ],
      "text/plain": [
       "<graphviz.dot.Digraph at 0x7f5d4c405750>"
      ]
     },
     "execution_count": 10,
     "metadata": {},
     "output_type": "execute_result"
    }
   ],
   "source": [
    "torchviz.make_dot(y)"
   ]
  },
  {
   "cell_type": "code",
   "execution_count": null,
   "metadata": {},
   "outputs": [],
   "source": []
  },
  {
   "cell_type": "code",
   "execution_count": null,
   "metadata": {},
   "outputs": [],
   "source": []
  }
 ],
 "metadata": {
  "kernelspec": {
   "display_name": "Python 3",
   "language": "python",
   "name": "python3"
  },
  "language_info": {
   "codemirror_mode": {
    "name": "ipython",
    "version": 3
   },
   "file_extension": ".py",
   "mimetype": "text/x-python",
   "name": "python",
   "nbconvert_exporter": "python",
   "pygments_lexer": "ipython3",
   "version": "3.7.4"
  }
 },
 "nbformat": 4,
 "nbformat_minor": 2
}
